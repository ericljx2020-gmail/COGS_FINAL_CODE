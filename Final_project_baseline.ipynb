{
 "cells": [
  {
   "cell_type": "code",
   "execution_count": 1,
   "id": "5dd183fb",
   "metadata": {},
   "outputs": [],
   "source": [
    "import torch\n",
    "from torchvision import datasets, transforms\n",
    "from torch.utils.data import DataLoader, random_split\n",
    "import torch.nn as nn\n",
    "import torch.nn.functional as F\n",
    "\n",
    "\n",
    "import matplotlib.pyplot as plt\n",
    "\n",
    "import numpy as np"
   ]
  },
  {
   "cell_type": "code",
   "execution_count": 2,
   "id": "051c55fc",
   "metadata": {},
   "outputs": [
    {
     "name": "stdout",
     "output_type": "stream",
     "text": [
      "cuda:0\n"
     ]
    }
   ],
   "source": [
    "# If there are GPUs, choose the first one for computing. Otherwise use CPU.\n",
    "device = torch.device(\"cuda:0\" if torch.cuda.is_available() else \"cpu\")\n",
    "print(device)  \n",
    "# If 'cuda:0' is printed, it means GPU is available."
   ]
  },
  {
   "cell_type": "code",
   "execution_count": 3,
   "id": "53913ab0",
   "metadata": {},
   "outputs": [],
   "source": [
    "from torchvision import datasets, transforms\n",
    "from torch.utils.data import DataLoader, random_split\n",
    "import torch\n",
    "\n",
    "# Parameters\n",
    "data_dir = \"./fruit\"\n",
    "img_height, img_width = 300, 300\n",
    "batch_size = 8\n",
    "\n",
    "# Define transforms\n",
    "train_transforms = transforms.Compose([\n",
    "    transforms.Resize((img_height, img_width)),\n",
    "    transforms.RandomRotation(47),\n",
    "    transforms.RandomHorizontalFlip(),\n",
    "    transforms.RandomVerticalFlip(),\n",
    "    transforms.RandomResizedCrop((img_height, img_width), scale=(0.5, 1.0)),\n",
    "    transforms.RandomAffine(degrees=0, shear=30),\n",
    "    transforms.ToTensor(),\n",
    "    transforms.Normalize((0.5, 0.5, 0.5), (0.5, 0.5, 0.5))  # Assuming mean and std dev as 0.5 for simplicity\n",
    "])\n",
    "\n",
    "val_transforms = transforms.Compose([\n",
    "    transforms.Resize((img_height, img_width)),\n",
    "    transforms.ToTensor(),\n",
    "    transforms.Normalize((0.5, 0.5, 0.5), (0.5, 0.5, 0.5))\n",
    "])\n",
    "\n",
    "# Load datasets\n",
    "full_dataset = datasets.ImageFolder(root=data_dir, transform=train_transforms)\n",
    "\n",
    "# Parameters for splitting\n",
    "validation_split = 0.05\n",
    "test_split = 0.05\n",
    "\n",
    "# Calculate split sizes\n",
    "total_size = len(full_dataset)\n",
    "val_size = int(total_size * validation_split)\n",
    "test_size = int(total_size * test_split)\n",
    "train_size = total_size - val_size - test_size\n",
    "\n",
    "# Split dataset\n",
    "train_dataset, val_dataset, test_dataset = random_split(full_dataset, [train_size, val_size, test_size], generator=torch.Generator().manual_seed(123))\n",
    "\n",
    "# Applying validation transforms to val_dataset and test_dataset\n",
    "val_dataset.dataset.transform = val_transforms\n",
    "test_dataset.dataset.transform = val_transforms\n",
    "\n",
    "# Create DataLoaders\n",
    "train_loader = DataLoader(train_dataset, batch_size=batch_size, shuffle=True)\n",
    "val_loader = DataLoader(val_dataset, batch_size=batch_size, shuffle=False)\n",
    "test_loader = DataLoader(test_dataset, batch_size=batch_size, shuffle=False)\n"
   ]
  },
  {
   "cell_type": "code",
   "execution_count": 4,
   "id": "1718defb",
   "metadata": {
    "scrolled": true
   },
   "outputs": [
    {
     "data": {
      "text/plain": [
       "CustomCNN(\n",
       "  (conv1): Conv2d(3, 32, kernel_size=(3, 3), stride=(1, 1), padding=(1, 1))\n",
       "  (bn1): BatchNorm2d(32, eps=1e-05, momentum=0.1, affine=True, track_running_stats=True)\n",
       "  (pool): AvgPool2d(kernel_size=2, stride=2, padding=0)\n",
       "  (fc1): Linear(in_features=720000, out_features=100, bias=True)\n",
       "  (fc2): Linear(in_features=100, out_features=50, bias=True)\n",
       "  (fc3): Linear(in_features=50, out_features=6, bias=True)\n",
       ")"
      ]
     },
     "execution_count": 4,
     "metadata": {},
     "output_type": "execute_result"
    }
   ],
   "source": [
    "# OPTIMIZATION: ADAM\n",
    "# FUNCTION: relu\n",
    "# POOLING FUNCTION: MaxPooling\n",
    "#\n",
    "class CustomCNN(nn.Module):\n",
    "    def __init__(self):\n",
    "        super(CustomCNN, self).__init__()\n",
    "        self.conv1 = nn.Conv2d(3, 32, 3, padding=1)\n",
    "        self.bn1 = nn.BatchNorm2d(32)\n",
    "        self.pool = nn.AvgPool2d(2, 2)\n",
    "\n",
    "        # Calculate the size of the flattened layer\n",
    "        with torch.no_grad():\n",
    "            self._to_linear = None\n",
    "            self.convs(torch.zeros(1, 3, img_height, img_width))\n",
    "\n",
    "        self.fc1 = nn.Linear(self._to_linear, 100)\n",
    "        self.fc2 = nn.Linear(100, 50)\n",
    "        self.fc3 = nn.Linear(50, 6)\n",
    "\n",
    "    def convs(self, x):\n",
    "        x = F.relu(self.pool(self.bn1(self.conv1(x))))\n",
    "\n",
    "        if not self._to_linear:\n",
    "            self._to_linear = x[0].shape[0] * x[0].shape[1] * x[0].shape[2]\n",
    "        return x\n",
    "\n",
    "    def forward(self, x):\n",
    "        x = self.convs(x)\n",
    "        x = x.view(-1, self._to_linear)  # Flatten the layer\n",
    "        x = F.relu(self.fc1(x))\n",
    "        x = F.relu(self.fc2(x))\n",
    "        x = self.fc3(x)\n",
    "        return x\n",
    "model = CustomCNN()\n",
    "model.to(device)"
   ]
  },
  {
   "cell_type": "code",
   "execution_count": 5,
   "id": "3ef9fce6",
   "metadata": {},
   "outputs": [
    {
     "name": "stdout",
     "output_type": "stream",
     "text": [
      "6\n"
     ]
    }
   ],
   "source": [
    "class_names = full_dataset.classes\n",
    "print(len(class_names))"
   ]
  },
  {
   "cell_type": "code",
   "execution_count": 6,
   "id": "5f881f22",
   "metadata": {},
   "outputs": [
    {
     "name": "stdout",
     "output_type": "stream",
     "text": [
      "Epoch [1/30]: Train Loss: 1.5796, Train Accuracy: 36.42%, Val Loss: 1.7596, Val Accuracy: 39.02%\n",
      "Epoch [2/30]: Train Loss: 1.3100, Train Accuracy: 51.84%, Val Loss: 1.4830, Val Accuracy: 50.00%\n",
      "Epoch [3/30]: Train Loss: 1.1243, Train Accuracy: 56.94%, Val Loss: 1.3057, Val Accuracy: 58.54%\n",
      "Epoch [4/30]: Train Loss: 1.0089, Train Accuracy: 63.65%, Val Loss: 1.3150, Val Accuracy: 57.32%\n",
      "Epoch [5/30]: Train Loss: 1.0021, Train Accuracy: 61.50%, Val Loss: 1.4776, Val Accuracy: 64.63%\n",
      "Epoch [6/30]: Train Loss: 0.8874, Train Accuracy: 67.87%, Val Loss: 1.2553, Val Accuracy: 62.20%\n",
      "Epoch [7/30]: Train Loss: 0.8415, Train Accuracy: 68.61%, Val Loss: 1.2329, Val Accuracy: 62.20%\n",
      "Epoch [8/30]: Train Loss: 0.7567, Train Accuracy: 72.97%, Val Loss: 1.2619, Val Accuracy: 62.20%\n",
      "Epoch [9/30]: Train Loss: 0.6406, Train Accuracy: 77.26%, Val Loss: 1.2379, Val Accuracy: 68.29%\n",
      "Epoch [10/30]: Train Loss: 0.6053, Train Accuracy: 77.73%, Val Loss: 1.4610, Val Accuracy: 59.76%\n",
      "Epoch [11/30]: Train Loss: 0.4566, Train Accuracy: 84.51%, Val Loss: 1.1840, Val Accuracy: 67.07%\n",
      "Epoch [12/30]: Train Loss: 0.4928, Train Accuracy: 83.37%, Val Loss: 1.1865, Val Accuracy: 60.98%\n",
      "Epoch [13/30]: Train Loss: 0.4211, Train Accuracy: 84.98%, Val Loss: 2.3244, Val Accuracy: 57.32%\n",
      "Epoch [14/30]: Train Loss: 0.2756, Train Accuracy: 90.14%, Val Loss: 1.6881, Val Accuracy: 60.98%\n",
      "Epoch [15/30]: Train Loss: 0.2303, Train Accuracy: 92.29%, Val Loss: 1.8597, Val Accuracy: 62.20%\n",
      "Epoch [16/30]: Train Loss: 0.2142, Train Accuracy: 92.22%, Val Loss: 2.1255, Val Accuracy: 67.07%\n",
      "Epoch [17/30]: Train Loss: 0.2189, Train Accuracy: 92.15%, Val Loss: 2.0709, Val Accuracy: 67.07%\n",
      "Epoch [18/30]: Train Loss: 0.1506, Train Accuracy: 95.51%, Val Loss: 2.4179, Val Accuracy: 65.85%\n",
      "Epoch [19/30]: Train Loss: 0.0813, Train Accuracy: 97.72%, Val Loss: 2.7477, Val Accuracy: 64.63%\n",
      "Epoch [20/30]: Train Loss: 0.3183, Train Accuracy: 90.07%, Val Loss: 1.8145, Val Accuracy: 59.76%\n",
      "Epoch [21/30]: Train Loss: 0.1769, Train Accuracy: 94.03%, Val Loss: 1.9132, Val Accuracy: 60.98%\n",
      "Epoch [22/30]: Train Loss: 0.0593, Train Accuracy: 98.26%, Val Loss: 2.1196, Val Accuracy: 65.85%\n",
      "Epoch [23/30]: Train Loss: 0.1614, Train Accuracy: 94.97%, Val Loss: 1.8354, Val Accuracy: 58.54%\n",
      "Epoch [24/30]: Train Loss: 0.1337, Train Accuracy: 95.84%, Val Loss: 1.7920, Val Accuracy: 69.51%\n",
      "Epoch [25/30]: Train Loss: 0.0308, Train Accuracy: 99.13%, Val Loss: 2.3102, Val Accuracy: 68.29%\n",
      "Epoch [26/30]: Train Loss: 0.0286, Train Accuracy: 99.06%, Val Loss: 2.2880, Val Accuracy: 64.63%\n",
      "Epoch [27/30]: Train Loss: 0.0601, Train Accuracy: 98.05%, Val Loss: 2.1115, Val Accuracy: 70.73%\n",
      "Epoch [28/30]: Train Loss: 0.0324, Train Accuracy: 99.13%, Val Loss: 2.4067, Val Accuracy: 64.63%\n",
      "Epoch [29/30]: Train Loss: 0.0102, Train Accuracy: 99.66%, Val Loss: 2.9453, Val Accuracy: 62.20%\n",
      "Epoch [30/30]: Train Loss: 0.0145, Train Accuracy: 99.46%, Val Loss: 2.9490, Val Accuracy: 62.20%\n"
     ]
    },
    {
     "data": {
      "image/png": "[encoded data removed]",
      "text/plain": [
       "<Figure size 720x360 with 2 Axes>"
      ]
     },
     "metadata": {
      "needs_background": "light"
     },
     "output_type": "display_data"
    }
   ],
   "source": [
    "import torch.optim as optim\n",
    "import matplotlib.pyplot as plt\n",
    "\n",
    "optimizer = optim.SGD(model.parameters(), lr=0.001, momentum=0.9, weight_decay=1e-4)\n",
    "criterion = nn.CrossEntropyLoss()\n",
    "\n",
    "# Initialize metrics storage\n",
    "train_losses, val_losses = [], []\n",
    "train_accuracies, val_accuracies = [], []\n",
    "\n",
    "epochs = 30\n",
    "\n",
    "# Training loop\n",
    "for epoch in range(epochs):\n",
    "    # Initialize metrics for this epoch\n",
    "    train_loss, val_loss = 0, 0\n",
    "    correct_train, total_train, correct_val, total_val = 0, 0, 0, 0\n",
    "    \n",
    "    # Training phase\n",
    "    model.train()\n",
    "    for data, target in train_loader:\n",
    "        data, target = data.to(device), target.to(device)\n",
    "        optimizer.zero_grad()\n",
    "        output = model(data)\n",
    "        loss = criterion(output, target)\n",
    "        train_loss += loss.item()\n",
    "        _, predicted = torch.max(output.data, 1)\n",
    "        total_train += target.size(0)\n",
    "        correct_train += (predicted == target).sum().item()\n",
    "        loss.backward()\n",
    "        optimizer.step()\n",
    "\n",
    "    # Validation phase\n",
    "    model.eval()\n",
    "    with torch.no_grad():\n",
    "        for data, target in val_loader:\n",
    "            data, target = data.to(device), target.to(device)\n",
    "            output = model(data)\n",
    "            loss = criterion(output, target)\n",
    "            val_loss += loss.item()\n",
    "            _, predicted = torch.max(output.data, 1)\n",
    "            total_val += target.size(0)\n",
    "            correct_val += (predicted == target).sum().item()\n",
    "\n",
    "    # Calculate average loss and accuracy for the epoch\n",
    "    avg_train_loss = train_loss / len(train_loader)\n",
    "    avg_val_loss = val_loss / len(val_loader)\n",
    "    train_accuracy = 100.0 * correct_train / total_train\n",
    "    val_accuracy = 100.0 * correct_val / total_val\n",
    "\n",
    "    # Append to history\n",
    "    train_losses.append(avg_train_loss)\n",
    "    val_losses.append(avg_val_loss)\n",
    "    train_accuracies.append(train_accuracy)\n",
    "    val_accuracies.append(val_accuracy)\n",
    "\n",
    "    # Print epoch summary\n",
    "    print(f'Epoch [{epoch+1}/{epochs}]: Train Loss: {avg_train_loss:.4f}, Train Accuracy: {train_accuracy:.2f}%, '\n",
    "          f'Val Loss: {avg_val_loss:.4f}, Val Accuracy: {val_accuracy:.2f}%')\n",
    "\n",
    "# Plotting\n",
    "plt.figure(figsize=(10, 5))\n",
    "plt.subplot(1, 2, 1)\n",
    "plt.plot(train_losses, color='red', label='Train Loss')\n",
    "plt.plot(val_losses, color='blue', label='Validation Loss')\n",
    "plt.title('Loss per Epoch')\n",
    "plt.xlabel('Epoch')\n",
    "plt.ylabel('Loss')\n",
    "plt.legend()\n",
    "\n",
    "plt.subplot(1, 2, 2)\n",
    "plt.plot(train_accuracies, color='red', label='Train Accuracy')\n",
    "plt.plot(val_accuracies, color='blue', label='Validation Accuracy')\n",
    "plt.title('Accuracy per Epoch')\n",
    "plt.xlabel('Epoch')\n",
    "plt.ylabel('Accuracy')\n",
    "plt.legend()\n",
    "\n",
    "plt.show()\n"
   ]
  },
  {
   "cell_type": "code",
   "execution_count": 7,
   "id": "5ec35586",
   "metadata": {},
   "outputs": [
    {
     "name": "stdout",
     "output_type": "stream",
     "text": [
      "Accuracy on test set: 63.41463414634146%\n"
     ]
    }
   ],
   "source": [
    "# Ensure the model is in evaluation mode\n",
    "model.eval()\n",
    "\n",
    "# Initialize variables to track correct predictions and total predictions\n",
    "correct = 0\n",
    "total = 0\n",
    "\n",
    "with torch.no_grad():\n",
    "    for data, targets in test_loader:\n",
    "        # Move data to the appropriate device (CPU or GPU)\n",
    "        data, targets = data.to(device), targets.to(device)\n",
    "\n",
    "        # Make predictions\n",
    "        outputs = model(data)\n",
    "\n",
    "        # Get the predicted class with the highest score\n",
    "        _, predicted = torch.max(outputs, 1)\n",
    "        total += targets.size(0)\n",
    "        correct += (predicted == targets).sum().item()\n",
    "\n",
    "# Calculate accuracy\n",
    "accuracy = 100 * correct / total\n",
    "print(f'Accuracy on test set: {accuracy}%')\n"
   ]
  },
  {
   "cell_type": "code",
   "execution_count": null,
   "id": "a21f6e1e",
   "metadata": {},
   "outputs": [],
   "source": []
  }
 ],
 "metadata": {
  "kernelspec": {
   "display_name": "Python 3 (ipykernel)",
   "language": "python",
   "name": "python3"
  },
  "language_info": {
   "codemirror_mode": {
    "name": "ipython",
    "version": 3
   },
   "file_extension": ".py",
   "mimetype": "text/x-python",
   "name": "python",
   "nbconvert_exporter": "python",
   "pygments_lexer": "ipython3",
   "version": "3.9.5"
  }
 },
 "nbformat": 4,
 "nbformat_minor": 5
}
